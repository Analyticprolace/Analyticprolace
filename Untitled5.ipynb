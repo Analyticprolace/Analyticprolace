{
  "nbformat": 4,
  "nbformat_minor": 0,
  "metadata": {
    "colab": {
      "provenance": [],
      "authorship_tag": "ABX9TyNgf5/KdQO50HVorYd8/hxr",
      "include_colab_link": true
    },
    "kernelspec": {
      "name": "python3",
      "display_name": "Python 3"
    },
    "language_info": {
      "name": "python"
    }
  },
  "cells": [
    {
      "cell_type": "markdown",
      "metadata": {
        "id": "view-in-github",
        "colab_type": "text"
      },
      "source": [
        "<a href=\"https://colab.research.google.com/github/Analyticprolace/Analyticprolace/blob/main/Untitled5.ipynb\" target=\"_parent\"><img src=\"https://colab.research.google.com/assets/colab-badge.svg\" alt=\"Open In Colab\"/></a>"
      ]
    },
    {
      "cell_type": "code",
      "execution_count": 3,
      "metadata": {
        "colab": {
          "base_uri": "https://localhost:8080/"
        },
        "id": "lmym8gGuyOF8",
        "outputId": "8071cddb-fb31-4af6-f8d1-6ea3bde7f785"
      },
      "outputs": [
        {
          "output_type": "stream",
          "name": "stdout",
          "text": [
            "Epoch 1/5\n",
            "1875/1875 [==============================] - 10s 4ms/step - loss: 0.2900 - accuracy: 0.9151\n",
            "Epoch 2/5\n",
            "1875/1875 [==============================] - 8s 4ms/step - loss: 0.1375 - accuracy: 0.9584\n",
            "Epoch 3/5\n",
            "1875/1875 [==============================] - 8s 4ms/step - loss: 0.1033 - accuracy: 0.9690\n",
            "Epoch 4/5\n",
            "1875/1875 [==============================] - 7s 4ms/step - loss: 0.0849 - accuracy: 0.9737\n",
            "Epoch 5/5\n",
            "1875/1875 [==============================] - 8s 4ms/step - loss: 0.0738 - accuracy: 0.9770\n"
          ]
        }
      ],
      "source": [
        "import tensorflow as tf\n",
        "import matplotlib.pyplot as plt\n",
        "\n",
        "# Load MNIST dataset\n",
        "mnist = tf.keras.datasets.mnist\n",
        "(train_images, train_labels), (test_images, test_labels) = mnist.load_data()\n",
        "\n",
        "# Normalize pixel values to be between 0 and 1\n",
        "train_images, test_images = train_images / 255.0, test_images / 255.0\n",
        "\n",
        "# Define the model\n",
        "model = tf.keras.models.Sequential([\n",
        "    tf.keras.layers.Flatten(input_shape=(28, 28)),  # Flatten the 28x28 images to a 1D array\n",
        "    tf.keras.layers.Dense(128, activation='relu'),  # Fully connected layer with 128 neurons and ReLU activation\n",
        "    tf.keras.layers.Dropout(0.2),  # Dropout layer to prevent overfitting\n",
        "    tf.keras.layers.Dense(10, activation='softmax')  # Output layer with 10 neurons (one for each digit) and softmax activation\n",
        "])\n",
        "\n",
        "# Compile the model\n",
        "model.compile(optimizer='adam',\n",
        "              loss='sparse_categorical_crossentropy',\n",
        "              metrics=['accuracy'])\n",
        "\n",
        "# Train the model\n",
        "model.fit(train_images, train_labels, epochs=5)\n",
        "\n",
        "def predict_and_display(index):\n",
        "    # Predict the output\n",
        "    prediction = model.predict(test_images[index:index+1])\n",
        "    predicted_label = tf.argmax(prediction[0]).numpy()\n",
        "\n",
        "    # Display the image\n",
        "    plt.figure()\n",
        "    plt.imshow(test_images[index], cmap=plt.cm.binary)\n",
        "    plt.title(f\"Actual: {test_labels[index]}, Predicted: {predicted_label}\")\n",
        "    plt.colorbar()\n",
        "    plt.grid(False)\n",
        "    plt.show()"
      ]
    },
    {
      "cell_type": "code",
      "source": [
        "# User input system\n",
        "while True:\n",
        "    try:\n",
        "        user_input = int(input(f\"Choose a number between 0 and {len(test_images) - 1}: \"))\n",
        "        if user_input < 0 or user_input >= len(test_images):\n",
        "            print(\"Invalid input. Please choose a number within the specified range.\")\n",
        "            continue\n",
        "        predict_and_display(user_input)\n",
        "        break\n",
        "    except ValueError:\n",
        "        print(\"Invalid input. Please enter an integer.\")"
      ],
      "metadata": {
        "colab": {
          "base_uri": "https://localhost:8080/",
          "height": 333
        },
        "id": "KF0BrQsK0dQ6",
        "outputId": "d8608dd6-21c8-4ad8-bf82-2966ce3b2c22"
      },
      "execution_count": 2,
      "outputs": [
        {
          "output_type": "stream",
          "name": "stdout",
          "text": [
            "Choose a number between 0 and 9999: 9999\n",
            "1/1 [==============================] - 0s 205ms/step\n"
          ]
        },
        {
          "output_type": "display_data",
          "data": {
            "text/plain": [
              "<Figure size 640x480 with 2 Axes>"
            ],
            "image/png": "[encoded data removed]"
          },
          "metadata": {}
        }
      ]
    }
  ]
}